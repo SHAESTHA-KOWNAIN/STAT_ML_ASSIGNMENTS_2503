{
  "nbformat": 4,
  "nbformat_minor": 0,
  "metadata": {
    "colab": {
      "provenance": [],
      "include_colab_link": true
    },
    "kernelspec": {
      "name": "python3",
      "display_name": "Python 3"
    },
    "language_info": {
      "name": "python"
    }
  },
  "cells": [
    {
      "cell_type": "markdown",
      "metadata": {
        "id": "view-in-github",
        "colab_type": "text"
      },
      "source": [
        "<a href=\"https://colab.research.google.com/github/SHAESTHA-KOWNAIN/STAT_ML_ASSIGNMENTS_2503/blob/main/STML_A1.ipynb\" target=\"_parent\"><img src=\"https://colab.research.google.com/assets/colab-badge.svg\" alt=\"Open In Colab\"/></a>"
      ]
    },
    {
      "cell_type": "code",
      "source": [
        "!pip install scipy\n",
        "X=[5,6,3,8,3,7,8]\n",
        "Y=[4,5,8,2,4,2,5]\n",
        "import numpy as np\n",
        "from scipy import stats\n",
        "#Mean\n",
        "print(np.mean(X))\n",
        "print(np.mean(Y))\n",
        "\n",
        "#Median\n",
        "print(np.median(X))\n",
        "print(np.median(Y))\n",
        "\n",
        "#Mode\n",
        "print(stats.mode(X))\n",
        "print(stats.mode(Y))\n",
        "\n",
        "#Standard deviation\n",
        "print(np.std(X))\n",
        "print(np.std(Y))\n",
        "\n",
        "#Variance\n",
        "print(np.var(X))\n",
        "print(np.var(Y))\n",
        "\n",
        "#Range\n",
        "print(range(len(X)))\n",
        "print(range(len(Y)))\n",
        "\n",
        "#Quartile\n",
        "q75_x, q25_x = np.percentile(X, [75 ,25])\n",
        "q75_y, q25_y = np.percentile(Y, [75 ,25])\n",
        "print(q75_x)\n",
        "print(q25_x)\n",
        "print(q75_y)\n",
        "print(q25_y)\n",
        "\n",
        "#Interquartile range\n",
        "iqr_x = q75_x - q25_x\n",
        "iqr_y = q75_y - q25_y\n",
        "print(iqr_x)\n",
        "print(iqr_y)\n",
        "\n",
        "#skewness\n",
        "print(stats.skew(X))\n",
        "print(stats.skew(Y))\n",
        "\n",
        "#Kurtosis\n",
        "print(stats.kurtosis(X))\n",
        "print(stats.kurtosis(Y))"
      ],
      "metadata": {
        "colab": {
          "base_uri": "https://localhost:8080/"
        },
        "id": "VVSjsWefL64E",
        "outputId": "22f07a1b-1cfe-4b9d-822f-a3bf88810fed"
      },
      "execution_count": null,
      "outputs": [
        {
          "output_type": "stream",
          "name": "stdout",
          "text": [
            "Requirement already satisfied: scipy in /usr/local/lib/python3.10/dist-packages (1.13.1)\n",
            "Requirement already satisfied: numpy<2.3,>=1.22.4 in /usr/local/lib/python3.10/dist-packages (from scipy) (1.26.4)\n",
            "5.714285714285714\n",
            "4.285714285714286\n",
            "6.0\n",
            "4.0\n",
            "ModeResult(mode=3, count=2)\n",
            "ModeResult(mode=2, count=2)\n",
            "1.979486637221574\n",
            "1.9059520091609048\n",
            "3.918367346938776\n",
            "3.6326530612244894\n",
            "range(0, 7)\n",
            "range(0, 7)\n",
            "7.5\n",
            "4.0\n",
            "5.0\n",
            "3.0\n",
            "3.5\n",
            "2.0\n",
            "-0.26386711521557127\n",
            "0.5785710902698393\n",
            "-1.4541015625000002\n",
            "-0.34282287589950755\n"
          ]
        }
      ]
    },
    {
      "cell_type": "code",
      "source": [
        "import pandas as pd\n",
        "d = pd.read_csv('/content/sample_data/california_housing_test.csv')\n",
        "print(d)\n",
        "'''From the above data Find Mean, Median, Mode, Variance, Standard deviation, Range , Interquartile Range (IQR), Skewness ,Kurtosis of each\n",
        "feature'''"
      ],
      "metadata": {
        "id": "eh9qSZf-Ol7Z",
        "colab": {
          "base_uri": "https://localhost:8080/"
        },
        "outputId": "ea14f103-8dbe-48a3-90a6-c7663c33281c"
      },
      "execution_count": null,
      "outputs": [
        {
          "output_type": "stream",
          "name": "stdout",
          "text": [
            "      longitude  latitude  housing_median_age  total_rooms  total_bedrooms  \\\n",
            "0       -122.05     37.37                27.0       3885.0           661.0   \n",
            "1       -118.30     34.26                43.0       1510.0           310.0   \n",
            "2       -117.81     33.78                27.0       3589.0           507.0   \n",
            "3       -118.36     33.82                28.0         67.0            15.0   \n",
            "4       -119.67     36.33                19.0       1241.0           244.0   \n",
            "...         ...       ...                 ...          ...             ...   \n",
            "2995    -119.86     34.42                23.0       1450.0           642.0   \n",
            "2996    -118.14     34.06                27.0       5257.0          1082.0   \n",
            "2997    -119.70     36.30                10.0        956.0           201.0   \n",
            "2998    -117.12     34.10                40.0         96.0            14.0   \n",
            "2999    -119.63     34.42                42.0       1765.0           263.0   \n",
            "\n",
            "      population  households  median_income  median_house_value  \n",
            "0         1537.0       606.0         6.6085            344700.0  \n",
            "1          809.0       277.0         3.5990            176500.0  \n",
            "2         1484.0       495.0         5.7934            270500.0  \n",
            "3           49.0        11.0         6.1359            330000.0  \n",
            "4          850.0       237.0         2.9375             81700.0  \n",
            "...          ...         ...            ...                 ...  \n",
            "2995      1258.0       607.0         1.1790            225000.0  \n",
            "2996      3496.0      1036.0         3.3906            237200.0  \n",
            "2997       693.0       220.0         2.2895             62000.0  \n",
            "2998        46.0        14.0         3.2708            162500.0  \n",
            "2999       753.0       260.0         8.5608            500001.0  \n",
            "\n",
            "[3000 rows x 9 columns]\n"
          ]
        }
      ]
    },
    {
      "cell_type": "code",
      "source": [
        "import numpy as np\n",
        "from scipy import stats\n",
        "#mean\n",
        "print(np.mean(d))\n",
        "#median\n",
        "print(np.median(d))\n",
        "#mode\n",
        "print(stats.mode(d))\n",
        "#standard deviation\n",
        "print(np.std(d))\n",
        "  #variance\n",
        "print(np.var(d))\n",
        "#range\n",
        "print(range(len(d)))\n",
        "#interquartile range\n",
        "q75, q25 = np.percentile(d, [75 ,25])\n",
        "print(q75)\n",
        "print(q25)\n",
        "#iqr\n",
        "iqr = q75 - q25\n",
        "print(iqr)\n",
        "#skewness\n",
        "print(stats.skew(d))\n",
        "#kurtosis\n",
        "print(stats.kurtosis(d))"
      ],
      "metadata": {
        "colab": {
          "base_uri": "https://localhost:8080/"
        },
        "id": "vIZ_nSeUEhsr",
        "outputId": "0ef4c374-7c3a-4c1c-e89b-384eb6d64862"
      },
      "execution_count": null,
      "outputs": [
        {
          "output_type": "stream",
          "name": "stdout",
          "text": [
            "23424.13486612593\n",
            "268.0\n",
            "ModeResult(mode=array([-1.18260e+02,  3.40200e+01,  5.20000e+01,  9.07000e+02,\n",
            "        3.14000e+02,  8.70000e+02,  2.73000e+02,  1.50001e+01,\n",
            "        5.00001e+05]), count=array([ 26.,  35., 173.,   5.,  15.,   7.,  12.,   9., 125.]))\n",
            "longitude                  1.994604\n",
            "latitude                   2.129315\n",
            "housing_median_age        12.553303\n",
            "total_rooms             2155.234036\n",
            "total_bedrooms           415.585087\n",
            "population              1030.371241\n",
            "households               365.361801\n",
            "median_income              1.854203\n",
            "median_house_value    113100.832617\n",
            "dtype: float64\n",
            "longitude             3.978444e+00\n",
            "latitude              4.533980e+00\n",
            "housing_median_age    1.575854e+02\n",
            "total_rooms           4.645034e+06\n",
            "total_bedrooms        1.727110e+05\n",
            "population            1.061665e+06\n",
            "households            1.334892e+05\n",
            "median_income         3.438067e+00\n",
            "median_house_value    1.279180e+10\n",
            "dtype: float64\n",
            "range(0, 3000)\n",
            "1332.0\n",
            "18.0\n",
            "1314.0\n",
            "[-0.29770868  0.459586    0.01850386  4.16555325  3.86146122  2.94819565\n",
            "  3.55797329  1.69766236  0.98906706]\n",
            "[-1.36250077 -1.12449872 -0.80444405 32.04446667 28.48753189 16.41387618\n",
            " 26.18366681  5.61481222  0.39274097]\n"
          ]
        }
      ]
    },
    {
      "cell_type": "code",
      "source": [
        "X=[2.3,2.5,3.6,2.8,3.1,2.9,3.2,2.7,2.8,3.0]\n",
        "import matplotlib.pyplot as plt\n",
        "print(plt.hist(X,bins=5))"
      ],
      "metadata": {
        "id": "LIPHEe76A7eT",
        "outputId": "cb98ee9d-944f-4080-9c7e-ac2274a9be8f",
        "colab": {
          "base_uri": "https://localhost:8080/",
          "height": 447
        }
      },
      "execution_count": null,
      "outputs": [
        {
          "output_type": "stream",
          "name": "stdout",
          "text": [
            "(array([2., 3., 2., 2., 1.]), array([2.3 , 2.56, 2.82, 3.08, 3.34, 3.6 ]), <BarContainer object of 5 artists>)\n"
          ]
        },
        {
          "output_type": "display_data",
          "data": {
            "text/plain": [
              "<Figure size 640x480 with 1 Axes>"
            ],
            "image/png": "[encoded data removed]"
          },
          "metadata": {}
        }
      ]
    }
  ]
}